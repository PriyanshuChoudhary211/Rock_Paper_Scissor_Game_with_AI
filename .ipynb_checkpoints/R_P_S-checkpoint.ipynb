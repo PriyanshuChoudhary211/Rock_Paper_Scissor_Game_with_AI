{
 "cells": [
  {
   "cell_type": "code",
   "execution_count": 2,
   "id": "a7484c1e",
   "metadata": {},
   "outputs": [],
   "source": [
    "import cvzone\n",
    "import cv2 as cv\n",
    "import mediapipe\n",
    "import time"
   ]
  },
  {
   "cell_type": "code",
   "execution_count": 3,
   "id": "b1e14253",
   "metadata": {},
   "outputs": [],
   "source": [
    " from cvzone.HandTrackingModule import HandDetector"
   ]
  },
  {
   "cell_type": "code",
   "execution_count": 6,
   "id": "3a37d672",
   "metadata": {},
   "outputs": [],
   "source": [
    "cap=cv.VideoCapture(0)\n",
    "cap.set(3,640)\n",
    "cap.set(4,480)\n",
    "\n",
    "detector=HandDetector(maxHands=1)\n",
    "\n",
    "timer=0\n",
    "stateResult=False\n",
    "startGame=False\n",
    "\n",
    "while True:\n",
    "    imgBG= cv.imread(\"BG.png\")\n",
    "    success,img=cap.read()\n",
    "    \n",
    "    \n",
    "    imgScaled=cv.resize(img,(0,0),None,0.875,0.875)\n",
    "    imgScaled=imgScaled[:,80:480]\n",
    "    \n",
    "      #Find Hands\n",
    "    hands,img=detector.findHands(imgScaled)\n",
    "    if startGame:\n",
    "        if stateResult is False:\n",
    "            timer=time.time()-intialTime\n",
    "            cv.putText(imgBG,str(int(timer)),(605,435),cv.FONT_HERSHEY_COMPLEX,3,(255,0,255),4)\n",
    "            \n",
    "        if timer>3:\n",
    "                stateResult=True\n",
    "                timer=0\n",
    "    \n",
    "                if hands:\n",
    "                    playerMove=None\n",
    "                    hand=hands[0]\n",
    "                    fingers=detector.fingersUp(hand)\n",
    "\n",
    "                    if fingers==[0,0,0,0,0]:\n",
    "                        playerMove=1\n",
    "                    if fingers==[1,1,1,1,1]:\n",
    "                        playerMove=2\n",
    "                    if fingers==[0,1,1,0,0]:\n",
    "                        playerMove=3\n",
    "\n",
    "                    imgAI=cv.imread('1.png',cv.IMREAD_UNCHANGED)\n",
    "                    imgBG=cvzone.overlayPNG(imgBG,imgAI,(149,310))\n",
    "                    print(playerMove)\n",
    "        \n",
    "    \n",
    "    \n",
    "    imgBG[234:654,795:1195]=imgScaled \n",
    "    \n",
    "    if stateResult:\n",
    "        imgBG=cvzone.overlayPNG(imgBG,imgAI, (149,310))\n",
    "    \n",
    "#     cv.imshow('image',img)\n",
    "    cv.imshow('Game Board',imgBG)\n",
    "#     cv.imshow('Scaled',imgScaled)\n",
    "    \n",
    "    key=cv.waitKey(1)\n",
    "    if key==ord('s'):\n",
    "        stateResult=False\n",
    "        startGame=True\n",
    "        intialTime=time.time()\n",
    "    if key == 27:\n",
    "        break\n",
    "    \n",
    "cap.release()\n",
    "cv.destroyAllWindows()\n",
    "    "
   ]
  },
  {
   "cell_type": "code",
   "execution_count": 3,
   "id": "b6c104e2",
   "metadata": {},
   "outputs": [],
   "source": []
  },
  {
   "cell_type": "code",
   "execution_count": null,
   "id": "c152ffde",
   "metadata": {},
   "outputs": [],
   "source": []
  }
 ],
 "metadata": {
  "kernelspec": {
   "display_name": "Python 3 (ipykernel)",
   "language": "python",
   "name": "python3"
  },
  "language_info": {
   "codemirror_mode": {
    "name": "ipython",
    "version": 3
   },
   "file_extension": ".py",
   "mimetype": "text/x-python",
   "name": "python",
   "nbconvert_exporter": "python",
   "pygments_lexer": "ipython3",
   "version": "3.9.7"
  }
 },
 "nbformat": 4,
 "nbformat_minor": 5
}
